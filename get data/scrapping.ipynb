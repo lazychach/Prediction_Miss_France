{
 "cells": [
  {
   "cell_type": "markdown",
   "metadata": {},
   "source": [
    "# Imports"
   ]
  },
  {
   "cell_type": "code",
   "execution_count": 1,
   "metadata": {},
   "outputs": [
    {
     "name": "stdout",
     "output_type": "stream",
     "text": [
      "Requirement already satisfied: requests in c:\\users\\charl\\appdata\\local\\programs\\python\\python311\\lib\\site-packages (2.31.0)\n",
      "Requirement already satisfied: beautifulsoup4 in c:\\users\\charl\\appdata\\local\\programs\\python\\python311\\lib\\site-packages (4.12.3)\n",
      "Requirement already satisfied: pandas in c:\\users\\charl\\appdata\\local\\programs\\python\\python311\\lib\\site-packages (2.2.1)\n",
      "Requirement already satisfied: charset-normalizer<4,>=2 in c:\\users\\charl\\appdata\\local\\programs\\python\\python311\\lib\\site-packages (from requests) (3.3.2)\n",
      "Requirement already satisfied: idna<4,>=2.5 in c:\\users\\charl\\appdata\\local\\programs\\python\\python311\\lib\\site-packages (from requests) (3.6)\n",
      "Requirement already satisfied: urllib3<3,>=1.21.1 in c:\\users\\charl\\appdata\\local\\programs\\python\\python311\\lib\\site-packages (from requests) (2.2.1)\n",
      "Requirement already satisfied: certifi>=2017.4.17 in c:\\users\\charl\\appdata\\local\\programs\\python\\python311\\lib\\site-packages (from requests) (2024.2.2)\n",
      "Requirement already satisfied: soupsieve>1.2 in c:\\users\\charl\\appdata\\local\\programs\\python\\python311\\lib\\site-packages (from beautifulsoup4) (2.5)\n",
      "Requirement already satisfied: numpy<2,>=1.23.2 in c:\\users\\charl\\appdata\\local\\programs\\python\\python311\\lib\\site-packages (from pandas) (1.26.4)\n",
      "Requirement already satisfied: python-dateutil>=2.8.2 in c:\\users\\charl\\appdata\\local\\programs\\python\\python311\\lib\\site-packages (from pandas) (2.9.0.post0)\n",
      "Requirement already satisfied: pytz>=2020.1 in c:\\users\\charl\\appdata\\local\\programs\\python\\python311\\lib\\site-packages (from pandas) (2024.1)\n",
      "Requirement already satisfied: tzdata>=2022.7 in c:\\users\\charl\\appdata\\local\\programs\\python\\python311\\lib\\site-packages (from pandas) (2024.1)\n",
      "Requirement already satisfied: six>=1.5 in c:\\users\\charl\\appdata\\local\\programs\\python\\python311\\lib\\site-packages (from python-dateutil>=2.8.2->pandas) (1.16.0)\n",
      "Note: you may need to restart the kernel to use updated packages.\n"
     ]
    },
    {
     "name": "stderr",
     "output_type": "stream",
     "text": [
      "\n",
      "[notice] A new release of pip is available: 24.0 -> 24.3.1\n",
      "[notice] To update, run: python.exe -m pip install --upgrade pip\n"
     ]
    }
   ],
   "source": [
    "pip install requests beautifulsoup4 pandas"
   ]
  },
  {
   "cell_type": "code",
   "execution_count": 34,
   "metadata": {},
   "outputs": [],
   "source": [
    "import requests\n",
    "from bs4 import BeautifulSoup\n",
    "import pandas as pd\n",
    "from collections import defaultdict"
   ]
  },
  {
   "cell_type": "markdown",
   "metadata": {},
   "source": [
    "# Années précédentes"
   ]
  },
  {
   "cell_type": "code",
   "execution_count": 45,
   "metadata": {},
   "outputs": [
    {
     "data": {
      "text/plain": [
       "[2011,\n",
       " 2012,\n",
       " 2013,\n",
       " 2014,\n",
       " 2015,\n",
       " 2016,\n",
       " 2017,\n",
       " 2018,\n",
       " 2019,\n",
       " 2020,\n",
       " 2021,\n",
       " 2022,\n",
       " 2023,\n",
       " 2024]"
      ]
     },
     "execution_count": 45,
     "metadata": {},
     "output_type": "execute_result"
    }
   ],
   "source": [
    "years=[i for i in range(2011,2025)]\n",
    "years"
   ]
  },
  {
   "cell_type": "code",
   "execution_count": 46,
   "metadata": {},
   "outputs": [
    {
     "data": {
      "text/plain": [
       "['https://fr.wikipedia.org/wiki/Miss_France_2011',\n",
       " 'https://fr.wikipedia.org/wiki/Miss_France_2012',\n",
       " 'https://fr.wikipedia.org/wiki/Miss_France_2013',\n",
       " 'https://fr.wikipedia.org/wiki/Miss_France_2014',\n",
       " 'https://fr.wikipedia.org/wiki/Miss_France_2015',\n",
       " 'https://fr.wikipedia.org/wiki/Miss_France_2016',\n",
       " 'https://fr.wikipedia.org/wiki/Miss_France_2017',\n",
       " 'https://fr.wikipedia.org/wiki/Miss_France_2018',\n",
       " 'https://fr.wikipedia.org/wiki/Miss_France_2019',\n",
       " 'https://fr.wikipedia.org/wiki/Miss_France_2020',\n",
       " 'https://fr.wikipedia.org/wiki/Miss_France_2021',\n",
       " 'https://fr.wikipedia.org/wiki/Miss_France_2022',\n",
       " 'https://fr.wikipedia.org/wiki/Miss_France_2023',\n",
       " 'https://fr.wikipedia.org/wiki/Miss_France_2024']"
      ]
     },
     "execution_count": 46,
     "metadata": {},
     "output_type": "execute_result"
    }
   ],
   "source": [
    "url_list=[f'https://fr.wikipedia.org/wiki/Miss_France_{year}' for year in years]\n",
    "url_list"
   ]
  },
  {
   "cell_type": "code",
   "execution_count": 47,
   "metadata": {},
   "outputs": [],
   "source": [
    "# Dictionnaire pour stocker les DataFrames\n",
    "dataframes = {}"
   ]
  },
  {
   "cell_type": "code",
   "execution_count": 48,
   "metadata": {},
   "outputs": [],
   "source": [
    "def extract_candidates_table(url, year):\n",
    "    response = requests.get(url)\n",
    "    soup = BeautifulSoup(response.content, 'html.parser')\n",
    "    \n",
    "    # Localiser la section \"Candidates\"\n",
    "    section_candidates = None\n",
    "    for header in soup.find_all('h2'):\n",
    "        if \"Candidates\" in header.text:\n",
    "            section_candidates = header\n",
    "            break\n",
    "    \n",
    "    if section_candidates:\n",
    "        # Trouver la table qui suit immédiatement cette section\n",
    "        candidates_table = section_candidates.find_next('table', {'class': 'wikitable'})\n",
    "        if candidates_table:\n",
    "            # Extraire les en-têtes de la table\n",
    "            headers = [header.text.strip() for header in candidates_table.find_all('th')]\n",
    "            # Extraire les lignes de la table\n",
    "            rows = []\n",
    "            for row in candidates_table.find_all('tr')[1:]:  # Ignorer les en-têtes\n",
    "                cols = [col.text.strip() for col in row.find_all('td')]\n",
    "                rows.append(cols)\n",
    "            # Créer un DataFrame pandas\n",
    "            df = pd.DataFrame(rows, columns=headers)\n",
    "            df['année'] = year\n",
    "            return df\n",
    "    return None"
   ]
  },
  {
   "cell_type": "code",
   "execution_count": 49,
   "metadata": {},
   "outputs": [
    {
     "name": "stdout",
     "output_type": "stream",
     "text": [
      "Données extraites pour l'année 2011.\n",
      "Données extraites pour l'année 2012.\n",
      "Données extraites pour l'année 2013.\n",
      "Données extraites pour l'année 2014.\n",
      "Données extraites pour l'année 2015.\n",
      "Données extraites pour l'année 2016.\n",
      "Données extraites pour l'année 2017.\n",
      "Données extraites pour l'année 2018.\n",
      "Données extraites pour l'année 2019.\n",
      "Données extraites pour l'année 2020.\n",
      "Données extraites pour l'année 2021.\n",
      "Données extraites pour l'année 2022.\n",
      "Données extraites pour l'année 2023.\n",
      "Données extraites pour l'année 2024.\n"
     ]
    }
   ],
   "source": [
    "for url in url_list:\n",
    "    year = url.split('_')[-1]  # Extraire l'année de l'URL\n",
    "    df = extract_candidates_table(url, year)\n",
    "    if df is not None:\n",
    "        dataframes[f\"année {year}\"] = df\n",
    "        print(f\"Données extraites pour l'année {year}.\")\n",
    "    else:\n",
    "        print(f\"Pas de table 'Candidates' trouvée pour l'année {year}.\")"
   ]
  },
  {
   "cell_type": "code",
   "execution_count": 50,
   "metadata": {},
   "outputs": [
    {
     "name": "stdout",
     "output_type": "stream",
     "text": [
      "dict_keys(['année 2011', 'année 2012', 'année 2013', 'année 2014', 'année 2015', 'année 2016', 'année 2017', 'année 2018', 'année 2019', 'année 2020', 'année 2021', 'année 2022', 'année 2023', 'année 2024'])\n"
     ]
    }
   ],
   "source": [
    "print(dataframes.keys())"
   ]
  },
  {
   "cell_type": "code",
   "execution_count": 51,
   "metadata": {},
   "outputs": [
    {
     "name": "stdout",
     "output_type": "stream",
     "text": [
      "Catégorie 1:\n",
      "Headers : ('Région', 'Nom', 'Âge', 'Taille', 'Résidence', 'Élue le', 'Classement final', 'année')\n",
      "Années : ['année 2011', 'année 2014', 'année 2015', 'année 2016', 'année 2021']\n",
      "--------------------------------------------------\n",
      "Catégorie 2:\n",
      "Headers : ('Région', 'Nom[2]', 'Âge', 'Taille', 'Résidence', 'Élue le', 'Classement final', 'année')\n",
      "Années : ['année 2012', 'année 2013']\n",
      "--------------------------------------------------\n",
      "Catégorie 3:\n",
      "Headers : ('Région', 'Nom', 'Âge', 'Taille', 'Résidence', 'Élue le', 'Résultat', 'année')\n",
      "Années : ['année 2017']\n",
      "--------------------------------------------------\n",
      "Catégorie 4:\n",
      "Headers : ('région', 'Nom', 'Âge', 'Taille', 'Résidence', 'Élue le', 'Groupe', 'Classement final', 'année')\n",
      "Années : ['année 2018']\n",
      "--------------------------------------------------\n",
      "Catégorie 5:\n",
      "Headers : ('région', 'Nom', 'Âge', 'Taille', 'Résidence', 'Élue le', 'Classement final', 'année')\n",
      "Années : ['année 2019']\n",
      "--------------------------------------------------\n",
      "Catégorie 6:\n",
      "Headers : ('région', 'Nom', 'Âge[9]', 'Taille[9]', 'Résidence', 'Élue le', 'Classement final', 'année')\n",
      "Années : ['année 2020']\n",
      "--------------------------------------------------\n",
      "Catégorie 7:\n",
      "Headers : ('Région', 'Nom', 'Âge', 'Taille', 'Résidence', 'Élue le', 'Classement Final', 'année')\n",
      "Années : ['année 2022']\n",
      "--------------------------------------------------\n",
      "Catégorie 8:\n",
      "Headers : ('Région', 'Nom', 'Âge[N 1]', 'Taille', 'Résidence', 'Élection régionale', 'Classement final', 'Réf.', 'année')\n",
      "Années : ['année 2023']\n",
      "--------------------------------------------------\n",
      "Catégorie 9:\n",
      "Headers : ('Région', 'Nom', 'Âge[N 1]', 'Taille', 'Résidence', 'Élue le', 'Classement final', 'Réf.', 'année')\n",
      "Années : ['année 2024']\n",
      "--------------------------------------------------\n"
     ]
    }
   ],
   "source": [
    "categories = defaultdict(list)\n",
    "\n",
    "# Identifier les headers de chaque DataFrame et les regrouper\n",
    "for year, df in dataframes.items():\n",
    "    headers = tuple(df.columns)  # Les colonnes de chaque DataFrame sous forme de tuple\n",
    "    categories[headers].append(year)\n",
    "\n",
    "# Afficher les catégories et les années associées\n",
    "for idx, (header_set, years) in enumerate(categories.items(), start=1):\n",
    "    print(f\"Catégorie {idx}:\")\n",
    "    print(\"Headers :\", header_set)\n",
    "    print(\"Années :\", years)\n",
    "    print(\"-\" * 50)\n"
   ]
  },
  {
   "cell_type": "markdown",
   "metadata": {},
   "source": [
    "# Nettoyage des colonnes"
   ]
  },
  {
   "cell_type": "code",
   "execution_count": 58,
   "metadata": {},
   "outputs": [
    {
     "name": "stdout",
     "output_type": "stream",
     "text": [
      "Année : année 2011\n",
      "Index(['Région', 'Nom', 'Âge', 'Taille', 'Résidence', 'Date élection',\n",
      "       'Classement Final', 'année'],\n",
      "      dtype='object')\n",
      "--------------------------------------------------\n",
      "Année : année 2012\n",
      "Index(['Région', 'Nom', 'Âge', 'Taille', 'Résidence', 'Date élection',\n",
      "       'Classement Final', 'année'],\n",
      "      dtype='object')\n",
      "--------------------------------------------------\n",
      "Année : année 2013\n",
      "Index(['Région', 'Nom', 'Âge', 'Taille', 'Résidence', 'Date élection',\n",
      "       'Classement Final', 'année'],\n",
      "      dtype='object')\n",
      "--------------------------------------------------\n",
      "Année : année 2014\n",
      "Index(['Région', 'Nom', 'Âge', 'Taille', 'Résidence', 'Date élection',\n",
      "       'Classement Final', 'année'],\n",
      "      dtype='object')\n",
      "--------------------------------------------------\n",
      "Année : année 2015\n",
      "Index(['Région', 'Nom', 'Âge', 'Taille', 'Résidence', 'Date élection',\n",
      "       'Classement Final', 'année'],\n",
      "      dtype='object')\n",
      "--------------------------------------------------\n",
      "Année : année 2016\n",
      "Index(['Région', 'Nom', 'Âge', 'Taille', 'Résidence', 'Date élection',\n",
      "       'Classement Final', 'année'],\n",
      "      dtype='object')\n",
      "--------------------------------------------------\n",
      "Année : année 2017\n",
      "Index(['Région', 'Nom', 'Âge', 'Taille', 'Résidence', 'Date élection',\n",
      "       'Classement Final', 'année'],\n",
      "      dtype='object')\n",
      "--------------------------------------------------\n",
      "Année : année 2018\n",
      "Index(['Région', 'Nom', 'Âge', 'Taille', 'Résidence', 'Date élection',\n",
      "       'Classement Final', 'année'],\n",
      "      dtype='object')\n",
      "--------------------------------------------------\n",
      "Année : année 2019\n",
      "Index(['Région', 'Nom', 'Âge', 'Taille', 'Résidence', 'Date élection',\n",
      "       'Classement Final', 'année'],\n",
      "      dtype='object')\n",
      "--------------------------------------------------\n",
      "Année : année 2020\n",
      "Index(['Région', 'Nom', 'Âge', 'Taille', 'Résidence', 'Date élection',\n",
      "       'Classement Final', 'année'],\n",
      "      dtype='object')\n",
      "--------------------------------------------------\n",
      "Année : année 2021\n",
      "Index(['Région', 'Nom', 'Âge', 'Taille', 'Résidence', 'Date élection',\n",
      "       'Classement Final', 'année'],\n",
      "      dtype='object')\n",
      "--------------------------------------------------\n",
      "Année : année 2022\n",
      "Index(['Région', 'Nom', 'Âge', 'Taille', 'Résidence', 'Date élection',\n",
      "       'Classement Final', 'année'],\n",
      "      dtype='object')\n",
      "--------------------------------------------------\n",
      "Année : année 2023\n",
      "Index(['Région', 'Nom', 'Âge', 'Taille', 'Résidence', 'Date élection',\n",
      "       'Classement Final', 'année'],\n",
      "      dtype='object')\n",
      "--------------------------------------------------\n",
      "Année : année 2024\n",
      "Index(['Région', 'Nom', 'Âge', 'Taille', 'Résidence', 'Date élection',\n",
      "       'Classement Final', 'année'],\n",
      "      dtype='object')\n",
      "--------------------------------------------------\n"
     ]
    }
   ],
   "source": [
    "def clean_columns(df):\n",
    "    df.columns = df.columns.str.replace(r'\\[.*?\\]', '', regex=True).str.strip()\n",
    "    df.columns = df.columns.str.replace(r'^région$', 'Région', regex=True)\n",
    "    df.columns = df.columns.str.replace(r'Élue le','Date élection', regex=True)\n",
    "    df.columns = df.columns.str.replace(r'Élection régionale','Date élection', regex=True)\n",
    "    df.columns = df.columns.str.replace(r'final$','Final', regex=True)\n",
    "    df.columns = df.columns.str.replace(r'Résultat','Classement Final', regex=True)\n",
    "    if 'Réf.' in df.columns:\n",
    "        df = df.drop(columns=['Réf.'])\n",
    "    if 'Groupe' in df.columns:\n",
    "        df = df.drop(columns=['Groupe'])\n",
    "    return df\n",
    "\n",
    "for year, df in dataframes.items():\n",
    "    dataframes[year] = clean_columns(df)\n",
    "\n",
    "for year, df in dataframes.items():\n",
    "    print(f\"Année : {year}\")\n",
    "    print(df.columns)\n",
    "    print(\"-\" * 50)"
   ]
  },
  {
   "cell_type": "code",
   "execution_count": 59,
   "metadata": {},
   "outputs": [
    {
     "name": "stdout",
     "output_type": "stream",
     "text": [
      "Catégorie 1:\n",
      "Headers : ('Région', 'Nom', 'Âge', 'Taille', 'Résidence', 'Date élection', 'Classement Final', 'année')\n",
      "Années : ['année 2011', 'année 2012', 'année 2013', 'année 2014', 'année 2015', 'année 2016', 'année 2017', 'année 2018', 'année 2019', 'année 2020', 'année 2021', 'année 2022', 'année 2023', 'année 2024']\n",
      "--------------------------------------------------\n"
     ]
    }
   ],
   "source": [
    "categories = defaultdict(list)\n",
    "\n",
    "for year, df in dataframes.items():\n",
    "    headers = tuple(df.columns)  \n",
    "    categories[headers].append(year)\n",
    "\n",
    "for idx, (header_set, years) in enumerate(categories.items(), start=1):\n",
    "    print(f\"Catégorie {idx}:\")\n",
    "    print(\"Headers :\", header_set)\n",
    "    print(\"Années :\", years)\n",
    "    print(\"-\" * 50)"
   ]
  },
  {
   "cell_type": "code",
   "execution_count": 60,
   "metadata": {},
   "outputs": [
    {
     "name": "stdout",
     "output_type": "stream",
     "text": [
      "DataFrame fusionnée :\n",
      "           Région                 Nom     Âge  Taille         Résidence  \\\n",
      "0     Miss Alsace    Mathilde Buecher  19 ans  1,78 m       Heimersdorf   \n",
      "1  Miss Aquitaine      Clémence Thill  20 ans  1,75 m              Agen   \n",
      "2   Miss Auvergne     Clémence Oleksy  19 ans  1,76 m             Vichy   \n",
      "3  Miss Bourgogne  Alice Detollenaere  23 ans  1,74 m  Chitry-les-Mines   \n",
      "4   Miss Bretagne     Laury Thilleman  19 ans  1,78 m             Brest   \n",
      "\n",
      "                         Date élection  \\\n",
      "0          10 octobre 2010 à Hirsingue   \n",
      "1           16 octobre 2010 à Cadillac   \n",
      "2            17 octobre 2010 à Cébazat   \n",
      "3  1er octobre 2010 à Chalon-sur-Saône   \n",
      "4            26 octobre 2010 à Pontivy   \n",
      "\n",
      "                                Classement Final année  \n",
      "0                                                 2011  \n",
      "1                                                 2011  \n",
      "2                                    2e dauphine  2011  \n",
      "3                            Prix du Mannequinat  2011  \n",
      "4  Miss France 2011\\nPrix de la Culture générale  2011  \n",
      "Taille de la DataFrame fusionnée : (434, 8)\n"
     ]
    }
   ],
   "source": [
    "df_miss = pd.concat(dataframes.values(), ignore_index=True)\n",
    "\n",
    "print(\"DataFrame fusionnée :\")\n",
    "print(df_miss.head())\n",
    "print(f\"Taille de la DataFrame fusionnée : {df_miss.shape}\")"
   ]
  },
  {
   "cell_type": "markdown",
   "metadata": {},
   "source": [
    "# Transformation des données"
   ]
  },
  {
   "cell_type": "markdown",
   "metadata": {},
   "source": [
    "## Données catégoriques"
   ]
  },
  {
   "cell_type": "code",
   "execution_count": 61,
   "metadata": {},
   "outputs": [
    {
     "name": "stdout",
     "output_type": "stream",
     "text": [
      "Valeurs uniques dans la colonne 'Région':\n",
      "['Miss Alsace' 'Miss Aquitaine' 'Miss Auvergne' 'Miss Bourgogne'\n",
      " 'Miss Bretagne' 'Miss Centre' 'Miss Champagne-Ardenne' 'Miss Corse'\n",
      " \"Miss Côte d'Azur\" 'Miss Franche-Comté' 'Miss Guadeloupe' 'Miss Guyane'\n",
      " 'Miss Île-de-France' 'Miss Languedoc' 'Miss Limousin' 'Miss Lorraine'\n",
      " 'Miss Martinique' 'Miss Mayotte' 'Miss Midi-Pyrénées'\n",
      " 'Miss Nord-Pas-de-Calais' 'Miss Normandie' 'Miss Nouvelle-Calédonie'\n",
      " 'Miss Orléanais' 'Miss Pays de Loire' 'Miss Pays de Savoie'\n",
      " 'Miss Picardie' 'Miss Poitou-Charentes' 'Miss Provence' 'Miss Réunion'\n",
      " 'Miss Rhône-Alpes' 'Miss Roussillon' 'Miss Saint-Pierre-et-Miquelon'\n",
      " 'Miss Tahiti' 'Miss Saint-Martin' 'Miss Centre-Val-de-Loire'\n",
      " 'Miss Guadeloupe et Îles du Nord' 'Miss Centre-Val de Loire'\n",
      " 'Miss Languedoc-Roussillon' 'Miss Saint-Martin et Saint-Barthélemy'\n",
      " 'Miss Pays de la Loire' 'Miss Wallis-et-Futuna'\n",
      " 'Miss Saint-Martin et Saint-Barthélémy']\n",
      "--------------------------------------------------\n"
     ]
    }
   ],
   "source": [
    "categorical_columns = ['Région']\n",
    "\n",
    "for col in categorical_columns:\n",
    "    unique_values = df_miss[col].unique()\n",
    "    print(f\"Valeurs uniques dans la colonne '{col}':\")\n",
    "    print(unique_values)\n",
    "    print(\"-\" * 50)"
   ]
  },
  {
   "cell_type": "code",
   "execution_count": 62,
   "metadata": {},
   "outputs": [
    {
     "name": "stdout",
     "output_type": "stream",
     "text": [
      "Valeurs uniques après nettoyage :\n",
      "['Miss Alsace' 'Miss Aquitaine' 'Miss Auvergne' 'Miss Bourgogne'\n",
      " 'Miss Bretagne' 'Miss Centre' 'Miss Champagne-Ardenne' 'Miss Corse'\n",
      " \"Miss Côte d'Azur\" 'Miss Franche-Comté' 'Miss Guadeloupe' 'Miss Guyane'\n",
      " 'Miss Île-de-France' 'Miss Languedoc' 'Miss Limousin' 'Miss Lorraine'\n",
      " 'Miss Martinique' 'Miss Mayotte' 'Miss Midi-Pyrénées'\n",
      " 'Miss Nord-Pas-de-Calais' 'Miss Normandie' 'Miss Nouvelle-Calédonie'\n",
      " 'Miss Orléanais' 'Miss Pays de la Loire' 'Miss Pays de Savoie'\n",
      " 'Miss Picardie' 'Miss Poitou-Charentes' 'Miss Provence' 'Miss Réunion'\n",
      " 'Miss Rhône-Alpes' 'Miss Roussillon' 'Miss Saint-Pierre-et-Miquelon'\n",
      " 'Miss Tahiti' 'Miss Saint-Martin et Saint-Barthélemy'\n",
      " 'Miss Centre-Val-de-Loire' 'Miss Languedoc-Roussillon'\n",
      " 'Miss Wallis et Futuna']\n"
     ]
    }
   ],
   "source": [
    "cleaning_dict = {\n",
    "    \"Miss Saint-Martin et Saint-Barthélémy\": \"Miss Saint-Martin et Saint-Barthélemy\",\n",
    "    \"Miss Saint-Martin et Saint-Barthélemy\": \"Miss Saint-Martin et Saint-Barthélemy\",\n",
    "    \"Miss Centre-Val de Loire\": \"Miss Centre-Val-de-Loire\",\n",
    "    \"Miss Pays de Loire\": \"Miss Pays de la Loire\",\n",
    "    \"Miss Guadeloupe et Îles du Nord\": \"Miss Guadeloupe\",\n",
    "    \"Miss Wallis-et-Futuna\": \"Miss Wallis et Futuna\",\n",
    "    \"Miss Saint-Martin\": \"Miss Saint-Martin et Saint-Barthélemy\",\n",
    "}\n",
    "\n",
    "df_miss['Région'] = df_miss['Région'].replace(cleaning_dict)\n",
    "\n",
    "unique_regions = df_miss['Région'].unique()\n",
    "print(\"Valeurs uniques après nettoyage :\")\n",
    "print(unique_regions)\n",
    "\n",
    "pd.DataFrame({\"Région\": unique_regions}).to_csv(\"regions_cleaned.csv\", index=False)"
   ]
  },
  {
   "cell_type": "code",
   "execution_count": null,
   "metadata": {},
   "outputs": [],
   "source": []
  }
 ],
 "metadata": {
  "kernelspec": {
   "display_name": "Python 3",
   "language": "python",
   "name": "python3"
  },
  "language_info": {
   "codemirror_mode": {
    "name": "ipython",
    "version": 3
   },
   "file_extension": ".py",
   "mimetype": "text/x-python",
   "name": "python",
   "nbconvert_exporter": "python",
   "pygments_lexer": "ipython3",
   "version": "3.11.9"
  }
 },
 "nbformat": 4,
 "nbformat_minor": 2
}
